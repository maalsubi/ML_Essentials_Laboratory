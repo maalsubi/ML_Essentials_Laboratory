{
 "cells": [
  {
   "cell_type": "code",
   "execution_count": 3,
   "id": "ec90ab21",
   "metadata": {},
   "outputs": [
    {
     "name": "stdout",
     "output_type": "stream",
     "text": [
      "Welcome to\n",
      "      ____              __\n",
      "     / __/__  ___ _____/ /__\n",
      "    _\\ \\/ _ \\/ _ `/ __/  '_/\n",
      "   /__ / .__/\\_,_/_/ /_/\\_\\   version 3.4.1\n",
      "      /_/\n",
      "\n",
      "Using Python version 3.9.13 (main, Aug 25 2022 23:51:50)\n",
      "Spark context Web UI available at http://DLL-037:4042\n",
      "Spark context available as 'sc' (master = local[*], app id = local-1695711436365).\n",
      "SparkSession available as 'spark'.\n"
     ]
    }
   ],
   "source": [
    "from pyspark.sql import SparkSession\n",
    "from pyspark.ml.clustering import BisectingKMeans\n",
    "from pyspark.ml.feature import VectorAssembler\n",
    "from pyspark.shell import spark\n",
    "spark=SparkSession.builder.appName('kmean').getOrCreate()"
   ]
  },
  {
   "cell_type": "code",
   "execution_count": 5,
   "id": "65bc3211",
   "metadata": {},
   "outputs": [
    {
     "name": "stdout",
     "output_type": "stream",
     "text": [
      "+-------+------+-----+-----+-------+------+----------------+----------+\n",
      "|Channel|Region|Fresh| Milk|Grocery|Frozen|Detergents_Paper|Delicassen|\n",
      "+-------+------+-----+-----+-------+------+----------------+----------+\n",
      "|      2|     3|12669| 9656|   7561|   214|            2674|      1338|\n",
      "|      2|     3| 7057| 9810|   9568|  1762|            3293|      1776|\n",
      "|      2|     3| 6353| 8808|   7684|  2405|            3516|      7844|\n",
      "|      1|     3|13265| 1196|   4221|  6404|             507|      1788|\n",
      "|      2|     3|22615| 5410|   7198|  3915|            1777|      5185|\n",
      "|      2|     3| 9413| 8259|   5126|   666|            1795|      1451|\n",
      "|      2|     3|12126| 3199|   6975|   480|            3140|       545|\n",
      "|      2|     3| 7579| 4956|   9426|  1669|            3321|      2566|\n",
      "|      1|     3| 5963| 3648|   6192|   425|            1716|       750|\n",
      "|      2|     3| 6006|11093|  18881|  1159|            7425|      2098|\n",
      "|      2|     3| 3366| 5403|  12974|  4400|            5977|      1744|\n",
      "|      2|     3|13146| 1124|   4523|  1420|             549|       497|\n",
      "|      2|     3|31714|12319|  11757|   287|            3881|      2931|\n",
      "|      2|     3|21217| 6208|  14982|  3095|            6707|       602|\n",
      "|      2|     3|24653| 9465|  12091|   294|            5058|      2168|\n",
      "|      1|     3|10253| 1114|   3821|   397|             964|       412|\n",
      "|      2|     3| 1020| 8816|  12121|   134|            4508|      1080|\n",
      "|      1|     3| 5876| 6157|   2933|   839|             370|      4478|\n",
      "|      2|     3|18601| 6327|  10099|  2205|            2767|      3181|\n",
      "|      1|     3| 7780| 2495|   9464|   669|            2518|       501|\n",
      "+-------+------+-----+-----+-------+------+----------------+----------+\n",
      "only showing top 20 rows\n",
      "\n"
     ]
    }
   ],
   "source": [
    "df=spark.read.csv(r\"D:\\21bad014_ML\\Wholesale customers data.csv\",header=True,inferSchema=True)\n",
    "df.show()"
   ]
  },
  {
   "cell_type": "code",
   "execution_count": 6,
   "id": "2cf24581",
   "metadata": {},
   "outputs": [
    {
     "name": "stdout",
     "output_type": "stream",
     "text": [
      "root\n",
      " |-- Channel: integer (nullable = true)\n",
      " |-- Region: integer (nullable = true)\n",
      " |-- Fresh: integer (nullable = true)\n",
      " |-- Milk: integer (nullable = true)\n",
      " |-- Grocery: integer (nullable = true)\n",
      " |-- Frozen: integer (nullable = true)\n",
      " |-- Detergents_Paper: integer (nullable = true)\n",
      " |-- Delicassen: integer (nullable = true)\n",
      "\n"
     ]
    }
   ],
   "source": [
    "df.printSchema()"
   ]
  },
  {
   "cell_type": "code",
   "execution_count": 7,
   "id": "010d8918",
   "metadata": {},
   "outputs": [
    {
     "name": "stdout",
     "output_type": "stream",
     "text": [
      "+-------+------+-----+-----+-------+------+----------------+----------+--------------------+\n",
      "|Channel|Region|Fresh| Milk|Grocery|Frozen|Detergents_Paper|Delicassen|            features|\n",
      "+-------+------+-----+-----+-------+------+----------------+----------+--------------------+\n",
      "|      2|     3|12669| 9656|   7561|   214|            2674|      1338|[2.0,3.0,12669.0,...|\n",
      "|      2|     3| 7057| 9810|   9568|  1762|            3293|      1776|[2.0,3.0,7057.0,9...|\n",
      "|      2|     3| 6353| 8808|   7684|  2405|            3516|      7844|[2.0,3.0,6353.0,8...|\n",
      "|      1|     3|13265| 1196|   4221|  6404|             507|      1788|[1.0,3.0,13265.0,...|\n",
      "|      2|     3|22615| 5410|   7198|  3915|            1777|      5185|[2.0,3.0,22615.0,...|\n",
      "|      2|     3| 9413| 8259|   5126|   666|            1795|      1451|[2.0,3.0,9413.0,8...|\n",
      "|      2|     3|12126| 3199|   6975|   480|            3140|       545|[2.0,3.0,12126.0,...|\n",
      "|      2|     3| 7579| 4956|   9426|  1669|            3321|      2566|[2.0,3.0,7579.0,4...|\n",
      "|      1|     3| 5963| 3648|   6192|   425|            1716|       750|[1.0,3.0,5963.0,3...|\n",
      "|      2|     3| 6006|11093|  18881|  1159|            7425|      2098|[2.0,3.0,6006.0,1...|\n",
      "|      2|     3| 3366| 5403|  12974|  4400|            5977|      1744|[2.0,3.0,3366.0,5...|\n",
      "|      2|     3|13146| 1124|   4523|  1420|             549|       497|[2.0,3.0,13146.0,...|\n",
      "|      2|     3|31714|12319|  11757|   287|            3881|      2931|[2.0,3.0,31714.0,...|\n",
      "|      2|     3|21217| 6208|  14982|  3095|            6707|       602|[2.0,3.0,21217.0,...|\n",
      "|      2|     3|24653| 9465|  12091|   294|            5058|      2168|[2.0,3.0,24653.0,...|\n",
      "|      1|     3|10253| 1114|   3821|   397|             964|       412|[1.0,3.0,10253.0,...|\n",
      "|      2|     3| 1020| 8816|  12121|   134|            4508|      1080|[2.0,3.0,1020.0,8...|\n",
      "|      1|     3| 5876| 6157|   2933|   839|             370|      4478|[1.0,3.0,5876.0,6...|\n",
      "|      2|     3|18601| 6327|  10099|  2205|            2767|      3181|[2.0,3.0,18601.0,...|\n",
      "|      1|     3| 7780| 2495|   9464|   669|            2518|       501|[1.0,3.0,7780.0,2...|\n",
      "+-------+------+-----+-----+-------+------+----------------+----------+--------------------+\n",
      "only showing top 20 rows\n",
      "\n"
     ]
    }
   ],
   "source": [
    "assembler=VectorAssembler(inputCols=df.columns,outputCol='features')\n",
    "new_df=assembler.transform(df)\n",
    "new_df.show()"
   ]
  },
  {
   "cell_type": "code",
   "execution_count": 17,
   "id": "8b418265",
   "metadata": {},
   "outputs": [
    {
     "name": "stdout",
     "output_type": "stream",
     "text": [
      "Silhouette Score for k = 2 is 0.5875324233371718\n",
      "Silhouette Score for k = 3 is 0.5875324233371718\n",
      "Silhouette Score for k = 4 is 0.5875324233371718\n",
      "Silhouette Score for k = 5 is 0.5875324233371718\n",
      "Silhouette Score for k = 6 is 0.5875324233371718\n",
      "Silhouette Score for k = 7 is 0.5875324233371718\n",
      "Silhouette Score for k = 8 is 0.5875324233371718\n",
      "Silhouette Score for k = 9 is 0.5875324233371718\n"
     ]
    }
   ],
   "source": [
    "from pyspark.ml.evaluation import ClusteringEvaluator\n",
    "lis=[]\n",
    "for i in range(2,10):\n",
    "    bisecting_kmeans = BisectingKMeans(featuresCol='features', k=i, minDivisibleClusterSize =1)\n",
    "    model = bisecting_kmeans.fit(new_df)\n",
    "    prediction=model.transform(new_df)\n",
    "    evaluator = ClusteringEvaluator(predictionCol='prediction',\n",
    "                                featuresCol='features',metricName='silhouette',distanceMeasure='squaredEuclidean')\n",
    "    score=evaluator.evaluate(prediction)\n",
    "    lis.append(score)\n",
    "    print('Silhouette Score for k =',i,'is',score)"
   ]
  },
  {
   "cell_type": "code",
   "execution_count": 19,
   "id": "6629bbf0",
   "metadata": {},
   "outputs": [
    {
     "data": {
      "image/png": "[encoded data removed]",
      "text/plain": [
       "<Figure size 640x480 with 1 Axes>"
      ]
     },
     "metadata": {},
     "output_type": "display_data"
    }
   ],
   "source": [
    "import matplotlib.pyplot as plt\n",
    "plt.plot(range(2, 10), lis)\n",
    "plt.title('Bisecting Kmeans')\n",
    "plt.xlabel('Number of clusters')\n",
    "plt.ylabel('Sihoutee Score')\n",
    "plt.show()"
   ]
  },
  {
   "cell_type": "code",
   "execution_count": 16,
   "id": "f0622391",
   "metadata": {},
   "outputs": [
    {
     "name": "stdout",
     "output_type": "stream",
     "text": [
      "0.5875324233371718\n"
     ]
    }
   ],
   "source": [
    "print(score)\n"
   ]
  }
 ],
 "metadata": {
  "kernelspec": {
   "display_name": "Python 3 (ipykernel)",
   "language": "python",
   "name": "python3"
  },
  "language_info": {
   "codemirror_mode": {
    "name": "ipython",
    "version": 3
   },
   "file_extension": ".py",
   "mimetype": "text/x-python",
   "name": "python",
   "nbconvert_exporter": "python",
   "pygments_lexer": "ipython3",
   "version": "3.9.13"
  }
 },
 "nbformat": 4,
 "nbformat_minor": 5
}
