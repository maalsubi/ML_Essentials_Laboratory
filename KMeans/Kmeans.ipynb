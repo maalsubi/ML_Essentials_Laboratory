{
 "cells": [
  {
   "cell_type": "code",
   "execution_count": 1,
   "id": "d8b65979",
   "metadata": {},
   "outputs": [
    {
     "name": "stdout",
     "output_type": "stream",
     "text": [
      "Welcome to\n",
      "      ____              __\n",
      "     / __/__  ___ _____/ /__\n",
      "    _\\ \\/ _ \\/ _ `/ __/  '_/\n",
      "   /__ / .__/\\_,_/_/ /_/\\_\\   version 3.4.1\n",
      "      /_/\n",
      "\n",
      "Using Python version 3.9.13 (main, Aug 25 2022 23:51:50)\n",
      "Spark context Web UI available at http://DLL-037:4041\n",
      "Spark context available as 'sc' (master = local[*], app id = local-1695708332833).\n",
      "SparkSession available as 'spark'.\n"
     ]
    }
   ],
   "source": [
    "from pyspark.shell import spark\n",
    "from pyspark.sql import SparkSession\n",
    "spark=SparkSession.builder.appName('kmean').getOrCreate()"
   ]
  },
  {
   "cell_type": "code",
   "execution_count": 2,
   "id": "99811876",
   "metadata": {},
   "outputs": [
    {
     "data": {
      "text/plain": [
       "DataFrame[Channel: int, Region: int, Fresh: int, Milk: int, Grocery: int, Frozen: int, Detergents_Paper: int, Delicassen: int]"
      ]
     },
     "execution_count": 2,
     "metadata": {},
     "output_type": "execute_result"
    }
   ],
   "source": [
    "df=spark.read.csv(r\"D:\\21bad014_ML\\Wholesale customers data.csv\",header=True,inferSchema=True)\n",
    "df"
   ]
  },
  {
   "cell_type": "code",
   "execution_count": 3,
   "id": "1423d923",
   "metadata": {},
   "outputs": [
    {
     "name": "stdout",
     "output_type": "stream",
     "text": [
      "root\n",
      " |-- Channel: integer (nullable = true)\n",
      " |-- Region: integer (nullable = true)\n",
      " |-- Fresh: integer (nullable = true)\n",
      " |-- Milk: integer (nullable = true)\n",
      " |-- Grocery: integer (nullable = true)\n",
      " |-- Frozen: integer (nullable = true)\n",
      " |-- Detergents_Paper: integer (nullable = true)\n",
      " |-- Delicassen: integer (nullable = true)\n",
      "\n"
     ]
    }
   ],
   "source": [
    "df.printSchema()"
   ]
  },
  {
   "cell_type": "code",
   "execution_count": 4,
   "id": "e2bb36f9",
   "metadata": {},
   "outputs": [
    {
     "name": "stdout",
     "output_type": "stream",
     "text": [
      "+-------+------+-----+-----+-------+------+----------------+----------+\n",
      "|Channel|Region|Fresh| Milk|Grocery|Frozen|Detergents_Paper|Delicassen|\n",
      "+-------+------+-----+-----+-------+------+----------------+----------+\n",
      "|      2|     3|12669| 9656|   7561|   214|            2674|      1338|\n",
      "|      2|     3| 7057| 9810|   9568|  1762|            3293|      1776|\n",
      "|      2|     3| 6353| 8808|   7684|  2405|            3516|      7844|\n",
      "|      1|     3|13265| 1196|   4221|  6404|             507|      1788|\n",
      "|      2|     3|22615| 5410|   7198|  3915|            1777|      5185|\n",
      "|      2|     3| 9413| 8259|   5126|   666|            1795|      1451|\n",
      "|      2|     3|12126| 3199|   6975|   480|            3140|       545|\n",
      "|      2|     3| 7579| 4956|   9426|  1669|            3321|      2566|\n",
      "|      1|     3| 5963| 3648|   6192|   425|            1716|       750|\n",
      "|      2|     3| 6006|11093|  18881|  1159|            7425|      2098|\n",
      "|      2|     3| 3366| 5403|  12974|  4400|            5977|      1744|\n",
      "|      2|     3|13146| 1124|   4523|  1420|             549|       497|\n",
      "|      2|     3|31714|12319|  11757|   287|            3881|      2931|\n",
      "|      2|     3|21217| 6208|  14982|  3095|            6707|       602|\n",
      "|      2|     3|24653| 9465|  12091|   294|            5058|      2168|\n",
      "|      1|     3|10253| 1114|   3821|   397|             964|       412|\n",
      "|      2|     3| 1020| 8816|  12121|   134|            4508|      1080|\n",
      "|      1|     3| 5876| 6157|   2933|   839|             370|      4478|\n",
      "|      2|     3|18601| 6327|  10099|  2205|            2767|      3181|\n",
      "|      1|     3| 7780| 2495|   9464|   669|            2518|       501|\n",
      "+-------+------+-----+-----+-------+------+----------------+----------+\n",
      "only showing top 20 rows\n",
      "\n"
     ]
    }
   ],
   "source": [
    "df.show()"
   ]
  },
  {
   "cell_type": "code",
   "execution_count": 5,
   "id": "e288719d",
   "metadata": {},
   "outputs": [
    {
     "name": "stdout",
     "output_type": "stream",
     "text": [
      "+-------+------+-----+-----+-------+------+----------------+----------+--------------------+\n",
      "|Channel|Region|Fresh| Milk|Grocery|Frozen|Detergents_Paper|Delicassen|            features|\n",
      "+-------+------+-----+-----+-------+------+----------------+----------+--------------------+\n",
      "|      2|     3|12669| 9656|   7561|   214|            2674|      1338|[2.0,3.0,12669.0,...|\n",
      "|      2|     3| 7057| 9810|   9568|  1762|            3293|      1776|[2.0,3.0,7057.0,9...|\n",
      "|      2|     3| 6353| 8808|   7684|  2405|            3516|      7844|[2.0,3.0,6353.0,8...|\n",
      "|      1|     3|13265| 1196|   4221|  6404|             507|      1788|[1.0,3.0,13265.0,...|\n",
      "|      2|     3|22615| 5410|   7198|  3915|            1777|      5185|[2.0,3.0,22615.0,...|\n",
      "|      2|     3| 9413| 8259|   5126|   666|            1795|      1451|[2.0,3.0,9413.0,8...|\n",
      "|      2|     3|12126| 3199|   6975|   480|            3140|       545|[2.0,3.0,12126.0,...|\n",
      "|      2|     3| 7579| 4956|   9426|  1669|            3321|      2566|[2.0,3.0,7579.0,4...|\n",
      "|      1|     3| 5963| 3648|   6192|   425|            1716|       750|[1.0,3.0,5963.0,3...|\n",
      "|      2|     3| 6006|11093|  18881|  1159|            7425|      2098|[2.0,3.0,6006.0,1...|\n",
      "|      2|     3| 3366| 5403|  12974|  4400|            5977|      1744|[2.0,3.0,3366.0,5...|\n",
      "|      2|     3|13146| 1124|   4523|  1420|             549|       497|[2.0,3.0,13146.0,...|\n",
      "|      2|     3|31714|12319|  11757|   287|            3881|      2931|[2.0,3.0,31714.0,...|\n",
      "|      2|     3|21217| 6208|  14982|  3095|            6707|       602|[2.0,3.0,21217.0,...|\n",
      "|      2|     3|24653| 9465|  12091|   294|            5058|      2168|[2.0,3.0,24653.0,...|\n",
      "|      1|     3|10253| 1114|   3821|   397|             964|       412|[1.0,3.0,10253.0,...|\n",
      "|      2|     3| 1020| 8816|  12121|   134|            4508|      1080|[2.0,3.0,1020.0,8...|\n",
      "|      1|     3| 5876| 6157|   2933|   839|             370|      4478|[1.0,3.0,5876.0,6...|\n",
      "|      2|     3|18601| 6327|  10099|  2205|            2767|      3181|[2.0,3.0,18601.0,...|\n",
      "|      1|     3| 7780| 2495|   9464|   669|            2518|       501|[1.0,3.0,7780.0,2...|\n",
      "+-------+------+-----+-----+-------+------+----------------+----------+--------------------+\n",
      "only showing top 20 rows\n",
      "\n"
     ]
    }
   ],
   "source": [
    "from pyspark.ml.feature import VectorAssembler\n",
    "assembler=VectorAssembler(inputCols=df.columns,outputCol='features')\n",
    "new_df=assembler.transform(df)\n",
    "new_df.show()"
   ]
  },
  {
   "cell_type": "code",
   "execution_count": 6,
   "id": "3662cdb7",
   "metadata": {},
   "outputs": [
    {
     "name": "stdout",
     "output_type": "stream",
     "text": [
      "+--------------------+\n",
      "|            features|\n",
      "+--------------------+\n",
      "|[2.0,3.0,12669.0,...|\n",
      "|[2.0,3.0,7057.0,9...|\n",
      "|[2.0,3.0,6353.0,8...|\n",
      "|[1.0,3.0,13265.0,...|\n",
      "|[2.0,3.0,22615.0,...|\n",
      "|[2.0,3.0,9413.0,8...|\n",
      "|[2.0,3.0,12126.0,...|\n",
      "|[2.0,3.0,7579.0,4...|\n",
      "|[1.0,3.0,5963.0,3...|\n",
      "|[2.0,3.0,6006.0,1...|\n",
      "|[2.0,3.0,3366.0,5...|\n",
      "|[2.0,3.0,13146.0,...|\n",
      "|[2.0,3.0,31714.0,...|\n",
      "|[2.0,3.0,21217.0,...|\n",
      "|[2.0,3.0,24653.0,...|\n",
      "|[1.0,3.0,10253.0,...|\n",
      "|[2.0,3.0,1020.0,8...|\n",
      "|[1.0,3.0,5876.0,6...|\n",
      "|[2.0,3.0,18601.0,...|\n",
      "|[1.0,3.0,7780.0,2...|\n",
      "+--------------------+\n",
      "only showing top 20 rows\n",
      "\n"
     ]
    }
   ],
   "source": [
    "new_df.select('features').show()"
   ]
  },
  {
   "cell_type": "code",
   "execution_count": 7,
   "id": "58b6c05f",
   "metadata": {},
   "outputs": [],
   "source": [
    "from pyspark.ml.feature import StandardScaler\n",
    "sc = StandardScaler(inputCol=\"features\",\n",
    "                        outputCol=\"scaled_val\",\n",
    "                        withStd=True,\n",
    "                        withMean=False)\n",
    "scalerModel=sc.fit(new_df)\n",
    "new_df= scalerModel.transform(new_df)"
   ]
  },
  {
   "cell_type": "code",
   "execution_count": 8,
   "id": "e92679a2",
   "metadata": {},
   "outputs": [
    {
     "name": "stdout",
     "output_type": "stream",
     "text": [
      "+--------------------+\n",
      "|          scaled_val|\n",
      "+--------------------+\n",
      "|[4.27303342284647...|\n",
      "+--------------------+\n",
      "only showing top 1 row\n",
      "\n"
     ]
    }
   ],
   "source": [
    "new_df.select('scaled_val').show(1)"
   ]
  },
  {
   "cell_type": "code",
   "execution_count": 9,
   "id": "36b55a75",
   "metadata": {},
   "outputs": [
    {
     "name": "stdout",
     "output_type": "stream",
     "text": [
      "+--------------------+\n",
      "|          scaled_val|\n",
      "+--------------------+\n",
      "|[4.27303342284647...|\n",
      "|[4.27303342284647...|\n",
      "|[4.27303342284647...|\n",
      "|[2.13651671142323...|\n",
      "|[4.27303342284647...|\n",
      "|[4.27303342284647...|\n",
      "|[4.27303342284647...|\n",
      "|[4.27303342284647...|\n",
      "|[2.13651671142323...|\n",
      "|[4.27303342284647...|\n",
      "|[4.27303342284647...|\n",
      "|[4.27303342284647...|\n",
      "|[4.27303342284647...|\n",
      "|[4.27303342284647...|\n",
      "|[4.27303342284647...|\n",
      "|[2.13651671142323...|\n",
      "|[4.27303342284647...|\n",
      "|[2.13651671142323...|\n",
      "|[4.27303342284647...|\n",
      "|[2.13651671142323...|\n",
      "+--------------------+\n",
      "only showing top 20 rows\n",
      "\n"
     ]
    }
   ],
   "source": [
    "df1=new_df.select('scaled_val')\n",
    "df1.show()"
   ]
  },
  {
   "cell_type": "code",
   "execution_count": 19,
   "id": "6667378b",
   "metadata": {},
   "outputs": [
    {
     "name": "stdout",
     "output_type": "stream",
     "text": [
      "Silhouette Score for k = 2 is 0.4924991771447251\n",
      "Silhouette Score for k = 3 is 0.4165484722060416\n",
      "Silhouette Score for k = 4 is 0.43906414357142565\n",
      "Silhouette Score for k = 5 is 0.5013882342104297\n",
      "Silhouette Score for k = 6 is 0.4738911862932447\n",
      "Silhouette Score for k = 7 is 0.4763853140185235\n",
      "Silhouette Score for k = 8 is 0.4485426750900656\n",
      "Silhouette Score for k = 9 is 0.4978208618304572\n"
     ]
    }
   ],
   "source": [
    "from pyspark.ml.clustering import KMeans\n",
    "\n",
    "from pyspark.ml.evaluation import ClusteringEvaluator\n",
    "silhouette_score=[]\n",
    "evaluator = ClusteringEvaluator(predictionCol='prediction',\n",
    "                                featuresCol='scaled_val',metricName='silhouette',distanceMeasure='squaredEuclidean')\n",
    "for i in range(2,10):\n",
    "    kmeans=KMeans(featuresCol='scaled_val',k=i)\n",
    "    model=kmeans.fit(new_df)\n",
    "    predictions=model.transform(new_df)\n",
    "    score=evaluator.evaluate(predictions)\n",
    "    silhouette_score.append(score)\n",
    "    print('Silhouette Score for k =',i,'is',score)"
   ]
  },
  {
   "cell_type": "code",
   "execution_count": 20,
   "id": "11ff0978",
   "metadata": {},
   "outputs": [
    {
     "data": {
      "image/png": "[encoded data removed]",
      "text/plain": [
       "<Figure size 640x480 with 1 Axes>"
      ]
     },
     "metadata": {},
     "output_type": "display_data"
    }
   ],
   "source": [
    "import matplotlib.pyplot as plt\n",
    "plt.plot(range(2, 10), silhouette_score)\n",
    "plt.title('Elbow Method')\n",
    "plt.xlabel('Number of clusters')\n",
    "plt.ylabel('WCSS')\n",
    "plt.show()"
   ]
  },
  {
   "cell_type": "code",
   "execution_count": 21,
   "id": "8ed51930",
   "metadata": {},
   "outputs": [],
   "source": [
    "import matplotlib.pyplot as plt\n",
    "cluster_centers = model.clusterCenters()"
   ]
  },
  {
   "cell_type": "code",
   "execution_count": 22,
   "id": "5b2c3228",
   "metadata": {},
   "outputs": [
    {
     "name": "stdout",
     "output_type": "stream",
     "text": [
      "[array([2.13651671, 3.87460513, 0.66139918, 0.39929548, 0.36356381,\n",
      "       0.43888311, 0.16630045, 0.34866576]), array([4.27303342, 1.79691832, 0.32916041, 1.39515669, 1.88896836,\n",
      "       0.28116341, 1.73156913, 0.5039897 ]), array([4.27303342, 3.77633615, 0.70892526, 1.01503591, 1.2302037 ,\n",
      "       0.28061038, 1.00870274, 0.50309936]), array([4.27303342, 3.2288376 , 0.97577917, 3.46709923, 8.42235385,\n",
      "       0.11916353, 8.27720318, 0.73738365]), array([4.27303342, 3.51584539, 0.63875148, 2.74769155, 2.94330664,\n",
      "       0.43385457, 2.88338407, 1.24122603]), array([2.18799904, 1.69611228, 0.81121277, 0.42927247, 0.42022027,\n",
      "       0.65023173, 0.1678131 , 0.38492957]), array([4.27303342, 3.87460513, 2.72344727, 7.50304924, 5.16610461,\n",
      "       0.82552757, 4.95974313, 1.10929639]), array([ 2.13651671,  3.2288376 ,  2.75014593,  4.11455936,  1.77814485,\n",
      "       10.03187994,  0.15845702,  9.49467878]), array([2.21713998, 3.63091927, 2.6750596 , 0.60079764, 0.53095332,\n",
      "       1.69066814, 0.15920297, 0.84476955])]\n"
     ]
    }
   ],
   "source": [
    "print(cluster_centers)"
   ]
  }
 ],
 "metadata": {
  "kernelspec": {
   "display_name": "Python 3 (ipykernel)",
   "language": "python",
   "name": "python3"
  },
  "language_info": {
   "codemirror_mode": {
    "name": "ipython",
    "version": 3
   },
   "file_extension": ".py",
   "mimetype": "text/x-python",
   "name": "python",
   "nbconvert_exporter": "python",
   "pygments_lexer": "ipython3",
   "version": "3.9.13"
  }
 },
 "nbformat": 4,
 "nbformat_minor": 5
}
