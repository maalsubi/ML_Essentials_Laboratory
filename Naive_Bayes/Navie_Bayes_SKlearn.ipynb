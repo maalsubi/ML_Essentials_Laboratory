{
 "cells": [
  {
   "cell_type": "code",
   "execution_count": 1,
   "id": "43e7a5a7",
   "metadata": {},
   "outputs": [],
   "source": [
    "import pandas as pd\n",
    "import numpy as np\n",
    "from sklearn.model_selection import train_test_split\n",
    "from sklearn.metrics import accuracy_score\n",
    "from sklearn.naive_bayes import GaussianNB"
   ]
  },
  {
   "cell_type": "code",
   "execution_count": 2,
   "id": "ca4a8678",
   "metadata": {},
   "outputs": [
    {
     "data": {
      "text/plain": [
       "(75000, 107)"
      ]
     },
     "execution_count": 2,
     "metadata": {},
     "output_type": "execute_result"
    }
   ],
   "source": [
    "df=pd.read_csv(r\"D:\\SEM-5\\ML-LAB\\ex2\\Rice_MSC_Ds.csv\")\n",
    "df.head()\n",
    "df.shape"
   ]
  },
  {
   "cell_type": "code",
   "execution_count": 3,
   "id": "45f7f4b1",
   "metadata": {},
   "outputs": [
    {
     "data": {
      "text/plain": [
       "array(['Basmati', 'Arborio', 'Jasmine', 'Ipsala', 'Karacadag'],\n",
       "      dtype=object)"
      ]
     },
     "execution_count": 3,
     "metadata": {},
     "output_type": "execute_result"
    }
   ],
   "source": [
    "df['CLASS'].unique()"
   ]
  },
  {
   "cell_type": "code",
   "execution_count": 4,
   "id": "46803a78",
   "metadata": {},
   "outputs": [
    {
     "data": {
      "text/plain": [
       "CLASS\n",
       "Basmati      15000\n",
       "Arborio      15000\n",
       "Jasmine      15000\n",
       "Ipsala       15000\n",
       "Karacadag    15000\n",
       "Name: count, dtype: int64"
      ]
     },
     "execution_count": 4,
     "metadata": {},
     "output_type": "execute_result"
    }
   ],
   "source": [
    "df['CLASS'].value_counts()"
   ]
  },
  {
   "cell_type": "code",
   "execution_count": 5,
   "id": "92faaaad",
   "metadata": {},
   "outputs": [
    {
     "data": {
      "text/plain": [
       "Index(['AREA', 'PERIMETER', 'MAJOR_AXIS', 'MINOR_AXIS', 'ECCENTRICITY',\n",
       "       'EQDIASQ', 'SOLIDITY', 'CONVEX_AREA', 'EXTENT', 'ASPECT_RATIO',\n",
       "       ...\n",
       "       'ALLdaub4L', 'ALLdaub4a', 'ALLdaub4b', 'ALLdaub4Y', 'ALLdaub4Cb',\n",
       "       'ALLdaub4Cr', 'ALLdaub4XX', 'ALLdaub4YY', 'ALLdaub4ZZ', 'CLASS'],\n",
       "      dtype='object', length=107)"
      ]
     },
     "execution_count": 5,
     "metadata": {},
     "output_type": "execute_result"
    }
   ],
   "source": [
    "df.columns"
   ]
  },
  {
   "cell_type": "code",
   "execution_count": 6,
   "id": "c80c7489",
   "metadata": {},
   "outputs": [
    {
     "data": {
      "text/html": [
       "<div>\n",
       "<style scoped>\n",
       "    .dataframe tbody tr th:only-of-type {\n",
       "        vertical-align: middle;\n",
       "    }\n",
       "\n",
       "    .dataframe tbody tr th {\n",
       "        vertical-align: top;\n",
       "    }\n",
       "\n",
       "    .dataframe thead th {\n",
       "        text-align: right;\n",
       "    }\n",
       "</style>\n",
       "<table border=\"1\" class=\"dataframe\">\n",
       "  <thead>\n",
       "    <tr style=\"text-align: right;\">\n",
       "      <th></th>\n",
       "      <th>AREA</th>\n",
       "      <th>PERIMETER</th>\n",
       "      <th>MAJOR_AXIS</th>\n",
       "      <th>MINOR_AXIS</th>\n",
       "      <th>ECCENTRICITY</th>\n",
       "      <th>EQDIASQ</th>\n",
       "      <th>SOLIDITY</th>\n",
       "      <th>CONVEX_AREA</th>\n",
       "      <th>EXTENT</th>\n",
       "      <th>ASPECT_RATIO</th>\n",
       "      <th>...</th>\n",
       "      <th>ALLdaub4V</th>\n",
       "      <th>ALLdaub4L</th>\n",
       "      <th>ALLdaub4a</th>\n",
       "      <th>ALLdaub4b</th>\n",
       "      <th>ALLdaub4Y</th>\n",
       "      <th>ALLdaub4Cb</th>\n",
       "      <th>ALLdaub4Cr</th>\n",
       "      <th>ALLdaub4XX</th>\n",
       "      <th>ALLdaub4YY</th>\n",
       "      <th>ALLdaub4ZZ</th>\n",
       "    </tr>\n",
       "  </thead>\n",
       "  <tbody>\n",
       "    <tr>\n",
       "      <th>count</th>\n",
       "      <td>75000.000000</td>\n",
       "      <td>75000.000000</td>\n",
       "      <td>75000.000000</td>\n",
       "      <td>75000.000000</td>\n",
       "      <td>75000.000000</td>\n",
       "      <td>75000.000000</td>\n",
       "      <td>75000.000000</td>\n",
       "      <td>75000.000000</td>\n",
       "      <td>75000.000000</td>\n",
       "      <td>75000.000000</td>\n",
       "      <td>...</td>\n",
       "      <td>75000.000000</td>\n",
       "      <td>75000.000000</td>\n",
       "      <td>75000.000000</td>\n",
       "      <td>75000.000000</td>\n",
       "      <td>75000.000000</td>\n",
       "      <td>75000.000000</td>\n",
       "      <td>75000.000000</td>\n",
       "      <td>75000.000000</td>\n",
       "      <td>75000.000000</td>\n",
       "      <td>75000.000000</td>\n",
       "    </tr>\n",
       "    <tr>\n",
       "      <th>mean</th>\n",
       "      <td>8379.197507</td>\n",
       "      <td>378.169453</td>\n",
       "      <td>161.805540</td>\n",
       "      <td>66.829335</td>\n",
       "      <td>0.886077</td>\n",
       "      <td>101.731251</td>\n",
       "      <td>0.975896</td>\n",
       "      <td>8584.862320</td>\n",
       "      <td>0.633226</td>\n",
       "      <td>2.597063</td>\n",
       "      <td>...</td>\n",
       "      <td>0.448960</td>\n",
       "      <td>111.088252</td>\n",
       "      <td>64.379443</td>\n",
       "      <td>61.461457</td>\n",
       "      <td>101.925425</td>\n",
       "      <td>66.240541</td>\n",
       "      <td>63.202088</td>\n",
       "      <td>0.341944</td>\n",
       "      <td>0.357058</td>\n",
       "      <td>0.421176</td>\n",
       "    </tr>\n",
       "    <tr>\n",
       "      <th>std</th>\n",
       "      <td>3119.209274</td>\n",
       "      <td>70.597008</td>\n",
       "      <td>36.461005</td>\n",
       "      <td>16.689269</td>\n",
       "      <td>0.071906</td>\n",
       "      <td>17.874070</td>\n",
       "      <td>0.007966</td>\n",
       "      <td>3189.298025</td>\n",
       "      <td>0.123795</td>\n",
       "      <td>0.968982</td>\n",
       "      <td>...</td>\n",
       "      <td>0.021736</td>\n",
       "      <td>5.904854</td>\n",
       "      <td>1.175616</td>\n",
       "      <td>2.435635</td>\n",
       "      <td>5.436861</td>\n",
       "      <td>2.159109</td>\n",
       "      <td>1.174976</td>\n",
       "      <td>0.041921</td>\n",
       "      <td>0.047139</td>\n",
       "      <td>0.043137</td>\n",
       "    </tr>\n",
       "    <tr>\n",
       "      <th>min</th>\n",
       "      <td>3929.000000</td>\n",
       "      <td>261.040000</td>\n",
       "      <td>96.968300</td>\n",
       "      <td>34.673000</td>\n",
       "      <td>0.627700</td>\n",
       "      <td>70.728800</td>\n",
       "      <td>0.877500</td>\n",
       "      <td>4032.000000</td>\n",
       "      <td>0.278800</td>\n",
       "      <td>1.284500</td>\n",
       "      <td>...</td>\n",
       "      <td>0.313900</td>\n",
       "      <td>82.300600</td>\n",
       "      <td>59.137900</td>\n",
       "      <td>53.653800</td>\n",
       "      <td>75.191800</td>\n",
       "      <td>58.323800</td>\n",
       "      <td>57.363400</td>\n",
       "      <td>0.159700</td>\n",
       "      <td>0.169000</td>\n",
       "      <td>0.191800</td>\n",
       "    </tr>\n",
       "    <tr>\n",
       "      <th>25%</th>\n",
       "      <td>6259.000000</td>\n",
       "      <td>316.431500</td>\n",
       "      <td>132.623500</td>\n",
       "      <td>49.650200</td>\n",
       "      <td>0.846100</td>\n",
       "      <td>89.270400</td>\n",
       "      <td>0.970900</td>\n",
       "      <td>6385.000000</td>\n",
       "      <td>0.561000</td>\n",
       "      <td>1.876100</td>\n",
       "      <td>...</td>\n",
       "      <td>0.434200</td>\n",
       "      <td>106.632900</td>\n",
       "      <td>63.883800</td>\n",
       "      <td>59.465575</td>\n",
       "      <td>97.834400</td>\n",
       "      <td>64.842000</td>\n",
       "      <td>63.052800</td>\n",
       "      <td>0.309900</td>\n",
       "      <td>0.320900</td>\n",
       "      <td>0.391200</td>\n",
       "    </tr>\n",
       "    <tr>\n",
       "      <th>50%</th>\n",
       "      <td>7345.000000</td>\n",
       "      <td>351.261000</td>\n",
       "      <td>149.343950</td>\n",
       "      <td>69.183900</td>\n",
       "      <td>0.885600</td>\n",
       "      <td>96.705500</td>\n",
       "      <td>0.976400</td>\n",
       "      <td>7532.000000</td>\n",
       "      <td>0.655800</td>\n",
       "      <td>2.153200</td>\n",
       "      <td>...</td>\n",
       "      <td>0.451600</td>\n",
       "      <td>110.770700</td>\n",
       "      <td>64.419350</td>\n",
       "      <td>61.424400</td>\n",
       "      <td>101.683700</td>\n",
       "      <td>66.291600</td>\n",
       "      <td>63.522050</td>\n",
       "      <td>0.340100</td>\n",
       "      <td>0.353300</td>\n",
       "      <td>0.424200</td>\n",
       "    </tr>\n",
       "    <tr>\n",
       "      <th>75%</th>\n",
       "      <td>8901.000000</td>\n",
       "      <td>444.986000</td>\n",
       "      <td>197.462025</td>\n",
       "      <td>75.814125</td>\n",
       "      <td>0.950800</td>\n",
       "      <td>106.457100</td>\n",
       "      <td>0.982200</td>\n",
       "      <td>9153.000000</td>\n",
       "      <td>0.727800</td>\n",
       "      <td>3.228700</td>\n",
       "      <td>...</td>\n",
       "      <td>0.466100</td>\n",
       "      <td>115.065075</td>\n",
       "      <td>65.174200</td>\n",
       "      <td>63.076825</td>\n",
       "      <td>105.592450</td>\n",
       "      <td>68.011800</td>\n",
       "      <td>63.734000</td>\n",
       "      <td>0.370300</td>\n",
       "      <td>0.387900</td>\n",
       "      <td>0.454700</td>\n",
       "    </tr>\n",
       "    <tr>\n",
       "      <th>max</th>\n",
       "      <td>21019.000000</td>\n",
       "      <td>593.698000</td>\n",
       "      <td>255.647200</td>\n",
       "      <td>113.441100</td>\n",
       "      <td>0.986800</td>\n",
       "      <td>163.591600</td>\n",
       "      <td>0.992100</td>\n",
       "      <td>21633.000000</td>\n",
       "      <td>0.901700</td>\n",
       "      <td>6.179500</td>\n",
       "      <td>...</td>\n",
       "      <td>0.495100</td>\n",
       "      <td>126.265100</td>\n",
       "      <td>67.459000</td>\n",
       "      <td>70.284000</td>\n",
       "      <td>116.287300</td>\n",
       "      <td>73.424700</td>\n",
       "      <td>66.539100</td>\n",
       "      <td>0.463900</td>\n",
       "      <td>0.488600</td>\n",
       "      <td>0.530200</td>\n",
       "    </tr>\n",
       "  </tbody>\n",
       "</table>\n",
       "<p>8 rows × 106 columns</p>\n",
       "</div>"
      ],
      "text/plain": [
       "               AREA     PERIMETER    MAJOR_AXIS    MINOR_AXIS  ECCENTRICITY   \n",
       "count  75000.000000  75000.000000  75000.000000  75000.000000  75000.000000  \\\n",
       "mean    8379.197507    378.169453    161.805540     66.829335      0.886077   \n",
       "std     3119.209274     70.597008     36.461005     16.689269      0.071906   \n",
       "min     3929.000000    261.040000     96.968300     34.673000      0.627700   \n",
       "25%     6259.000000    316.431500    132.623500     49.650200      0.846100   \n",
       "50%     7345.000000    351.261000    149.343950     69.183900      0.885600   \n",
       "75%     8901.000000    444.986000    197.462025     75.814125      0.950800   \n",
       "max    21019.000000    593.698000    255.647200    113.441100      0.986800   \n",
       "\n",
       "            EQDIASQ      SOLIDITY   CONVEX_AREA        EXTENT  ASPECT_RATIO   \n",
       "count  75000.000000  75000.000000  75000.000000  75000.000000  75000.000000  \\\n",
       "mean     101.731251      0.975896   8584.862320      0.633226      2.597063   \n",
       "std       17.874070      0.007966   3189.298025      0.123795      0.968982   \n",
       "min       70.728800      0.877500   4032.000000      0.278800      1.284500   \n",
       "25%       89.270400      0.970900   6385.000000      0.561000      1.876100   \n",
       "50%       96.705500      0.976400   7532.000000      0.655800      2.153200   \n",
       "75%      106.457100      0.982200   9153.000000      0.727800      3.228700   \n",
       "max      163.591600      0.992100  21633.000000      0.901700      6.179500   \n",
       "\n",
       "       ...     ALLdaub4V     ALLdaub4L     ALLdaub4a     ALLdaub4b   \n",
       "count  ...  75000.000000  75000.000000  75000.000000  75000.000000  \\\n",
       "mean   ...      0.448960    111.088252     64.379443     61.461457   \n",
       "std    ...      0.021736      5.904854      1.175616      2.435635   \n",
       "min    ...      0.313900     82.300600     59.137900     53.653800   \n",
       "25%    ...      0.434200    106.632900     63.883800     59.465575   \n",
       "50%    ...      0.451600    110.770700     64.419350     61.424400   \n",
       "75%    ...      0.466100    115.065075     65.174200     63.076825   \n",
       "max    ...      0.495100    126.265100     67.459000     70.284000   \n",
       "\n",
       "          ALLdaub4Y    ALLdaub4Cb    ALLdaub4Cr    ALLdaub4XX    ALLdaub4YY   \n",
       "count  75000.000000  75000.000000  75000.000000  75000.000000  75000.000000  \\\n",
       "mean     101.925425     66.240541     63.202088      0.341944      0.357058   \n",
       "std        5.436861      2.159109      1.174976      0.041921      0.047139   \n",
       "min       75.191800     58.323800     57.363400      0.159700      0.169000   \n",
       "25%       97.834400     64.842000     63.052800      0.309900      0.320900   \n",
       "50%      101.683700     66.291600     63.522050      0.340100      0.353300   \n",
       "75%      105.592450     68.011800     63.734000      0.370300      0.387900   \n",
       "max      116.287300     73.424700     66.539100      0.463900      0.488600   \n",
       "\n",
       "         ALLdaub4ZZ  \n",
       "count  75000.000000  \n",
       "mean       0.421176  \n",
       "std        0.043137  \n",
       "min        0.191800  \n",
       "25%        0.391200  \n",
       "50%        0.424200  \n",
       "75%        0.454700  \n",
       "max        0.530200  \n",
       "\n",
       "[8 rows x 106 columns]"
      ]
     },
     "execution_count": 6,
     "metadata": {},
     "output_type": "execute_result"
    }
   ],
   "source": [
    "df.describe()"
   ]
  },
  {
   "cell_type": "code",
   "execution_count": 26,
   "id": "6831a052",
   "metadata": {},
   "outputs": [
    {
     "name": "stdout",
     "output_type": "stream",
     "text": [
      "skewB 6\n",
      "kurtosisB 6\n",
      "skewCb 3\n",
      "skewCr 2\n",
      "kurtosisCb 3\n",
      "kurtosisCr 2\n"
     ]
    }
   ],
   "source": [
    "for i in df.columns:\n",
    "    if((df[i].isnull().sum())!=0):\n",
    "        print(i,df[i].isnull().sum())\n",
    "    "
   ]
  },
  {
   "cell_type": "code",
   "execution_count": 27,
   "id": "1785e85a",
   "metadata": {},
   "outputs": [
    {
     "name": "stdout",
     "output_type": "stream",
     "text": [
      "<class 'pandas.core.frame.DataFrame'>\n",
      "RangeIndex: 75000 entries, 0 to 74999\n",
      "Columns: 107 entries, AREA to CLASS\n",
      "dtypes: float64(95), int64(11), object(1)\n",
      "memory usage: 61.2+ MB\n"
     ]
    }
   ],
   "source": [
    "df.info()"
   ]
  },
  {
   "cell_type": "code",
   "execution_count": 7,
   "id": "6252f99d",
   "metadata": {},
   "outputs": [],
   "source": [
    "#Replace the null values\n",
    "df['skewCb']=df['skewCb'].fillna(df['skewCb'].mean())\n",
    "df['skewCr']=df['skewCr'].fillna(df['skewCr'].mean())\n",
    "df['kurtosisCb']=df['kurtosisCb'].fillna(df['kurtosisCb'].mean())\n",
    "df['kurtosisCr']=df['kurtosisCr'].fillna(df['kurtosisCr'].median())\n",
    "df['skewB']=df['skewB'].fillna(df['skewB'].mean())\n",
    "df['kurtosisB']=df['kurtosisB'].fillna(df['kurtosisB'].mean())"
   ]
  },
  {
   "cell_type": "code",
   "execution_count": 8,
   "id": "8503b429",
   "metadata": {},
   "outputs": [],
   "source": [
    "for i in df.columns:\n",
    "    if((df[i].isnull().sum())!=0):\n",
    "        print(i,df[i].isnull().sum())\n",
    "    "
   ]
  },
  {
   "cell_type": "code",
   "execution_count": 9,
   "id": "53682213",
   "metadata": {},
   "outputs": [
    {
     "data": {
      "text/plain": [
       "array([[0.2267993 , 0.53170223, 0.71120483, ..., 0.68244576, 0.65801001,\n",
       "        0.83185579],\n",
       "       [0.20912815, 0.2396365 , 0.26070133, ..., 0.46581197, 0.45494368,\n",
       "        0.50916076],\n",
       "       [0.06992393, 0.1610573 , 0.2836672 , ..., 0.53780408, 0.5491239 ,\n",
       "        0.74763593],\n",
       "       ...,\n",
       "       [0.21357519, 0.2352416 , 0.24794853, ..., 0.4704142 , 0.4612015 ,\n",
       "        0.54462175],\n",
       "       [0.65798713, 0.68677741, 0.6552875 , ..., 0.7800789 , 0.79005006,\n",
       "        0.75384161],\n",
       "       [0.52674078, 0.57595188, 0.55801685, ..., 0.84319527, 0.85231539,\n",
       "        0.80023641]])"
      ]
     },
     "execution_count": 9,
     "metadata": {},
     "output_type": "execute_result"
    }
   ],
   "source": [
    "from sklearn.preprocessing import MinMaxScaler\n",
    "ms=MinMaxScaler()\n",
    "arr=ms.fit_transform(df.iloc[:,:-1])\n",
    "arr"
   ]
  },
  {
   "cell_type": "code",
   "execution_count": 4,
   "id": "556746d4",
   "metadata": {},
   "outputs": [
    {
     "data": {
      "text/plain": [
       "{'Arborio': 0, 'Basmati': 1, 'Ipsala': 2, 'Jasmine': 3, 'Karacadag': 4}"
      ]
     },
     "execution_count": 4,
     "metadata": {},
     "output_type": "execute_result"
    }
   ],
   "source": [
    "from sklearn.preprocessing import LabelEncoder\n",
    "le=LabelEncoder()\n",
    "target=le.fit_transform(df['CLASS'])\n",
    "target\n",
    "labe_dict=dict(zip(le.classes_,range(len(le.classes_))))\n",
    "labe_dict"
   ]
  },
  {
   "cell_type": "code",
   "execution_count": 11,
   "id": "b5b43ae4",
   "metadata": {},
   "outputs": [
    {
     "data": {
      "text/html": [
       "<div>\n",
       "<style scoped>\n",
       "    .dataframe tbody tr th:only-of-type {\n",
       "        vertical-align: middle;\n",
       "    }\n",
       "\n",
       "    .dataframe tbody tr th {\n",
       "        vertical-align: top;\n",
       "    }\n",
       "\n",
       "    .dataframe thead th {\n",
       "        text-align: right;\n",
       "    }\n",
       "</style>\n",
       "<table border=\"1\" class=\"dataframe\">\n",
       "  <thead>\n",
       "    <tr style=\"text-align: right;\">\n",
       "      <th></th>\n",
       "      <th>AREA</th>\n",
       "      <th>PERIMETER</th>\n",
       "      <th>MAJOR_AXIS</th>\n",
       "      <th>MINOR_AXIS</th>\n",
       "      <th>ECCENTRICITY</th>\n",
       "      <th>EQDIASQ</th>\n",
       "      <th>SOLIDITY</th>\n",
       "      <th>CONVEX_AREA</th>\n",
       "      <th>EXTENT</th>\n",
       "      <th>ASPECT_RATIO</th>\n",
       "      <th>...</th>\n",
       "      <th>ALLdaub4L</th>\n",
       "      <th>ALLdaub4a</th>\n",
       "      <th>ALLdaub4b</th>\n",
       "      <th>ALLdaub4Y</th>\n",
       "      <th>ALLdaub4Cb</th>\n",
       "      <th>ALLdaub4Cr</th>\n",
       "      <th>ALLdaub4XX</th>\n",
       "      <th>ALLdaub4YY</th>\n",
       "      <th>ALLdaub4ZZ</th>\n",
       "      <th>CLASS</th>\n",
       "    </tr>\n",
       "  </thead>\n",
       "  <tbody>\n",
       "    <tr>\n",
       "      <th>0</th>\n",
       "      <td>0.226799</td>\n",
       "      <td>0.531702</td>\n",
       "      <td>0.711205</td>\n",
       "      <td>0.169473</td>\n",
       "      <td>0.962963</td>\n",
       "      <td>0.311846</td>\n",
       "      <td>0.872600</td>\n",
       "      <td>0.224590</td>\n",
       "      <td>0.121849</td>\n",
       "      <td>0.630194</td>\n",
       "      <td>...</td>\n",
       "      <td>0.720850</td>\n",
       "      <td>0.711817</td>\n",
       "      <td>0.357488</td>\n",
       "      <td>0.721816</td>\n",
       "      <td>0.632684</td>\n",
       "      <td>0.623320</td>\n",
       "      <td>0.682446</td>\n",
       "      <td>0.658010</td>\n",
       "      <td>0.831856</td>\n",
       "      <td>1</td>\n",
       "    </tr>\n",
       "    <tr>\n",
       "      <th>1</th>\n",
       "      <td>0.209128</td>\n",
       "      <td>0.239637</td>\n",
       "      <td>0.260701</td>\n",
       "      <td>0.446484</td>\n",
       "      <td>0.655806</td>\n",
       "      <td>0.290872</td>\n",
       "      <td>0.772251</td>\n",
       "      <td>0.212204</td>\n",
       "      <td>0.617916</td>\n",
       "      <td>0.142227</td>\n",
       "      <td>...</td>\n",
       "      <td>0.532359</td>\n",
       "      <td>0.628595</td>\n",
       "      <td>0.514402</td>\n",
       "      <td>0.526717</td>\n",
       "      <td>0.477674</td>\n",
       "      <td>0.677856</td>\n",
       "      <td>0.465812</td>\n",
       "      <td>0.454944</td>\n",
       "      <td>0.509161</td>\n",
       "      <td>0</td>\n",
       "    </tr>\n",
       "    <tr>\n",
       "      <th>2</th>\n",
       "      <td>0.069924</td>\n",
       "      <td>0.161057</td>\n",
       "      <td>0.283667</td>\n",
       "      <td>0.151145</td>\n",
       "      <td>0.882762</td>\n",
       "      <td>0.108149</td>\n",
       "      <td>0.825480</td>\n",
       "      <td>0.070394</td>\n",
       "      <td>0.316584</td>\n",
       "      <td>0.360306</td>\n",
       "      <td>...</td>\n",
       "      <td>0.623569</td>\n",
       "      <td>0.421146</td>\n",
       "      <td>0.306076</td>\n",
       "      <td>0.609395</td>\n",
       "      <td>0.705355</td>\n",
       "      <td>0.269276</td>\n",
       "      <td>0.537804</td>\n",
       "      <td>0.549124</td>\n",
       "      <td>0.747636</td>\n",
       "      <td>3</td>\n",
       "    </tr>\n",
       "    <tr>\n",
       "      <th>3</th>\n",
       "      <td>0.237624</td>\n",
       "      <td>0.529207</td>\n",
       "      <td>0.658375</td>\n",
       "      <td>0.210129</td>\n",
       "      <td>0.945141</td>\n",
       "      <td>0.324494</td>\n",
       "      <td>0.771379</td>\n",
       "      <td>0.240895</td>\n",
       "      <td>0.559640</td>\n",
       "      <td>0.540960</td>\n",
       "      <td>...</td>\n",
       "      <td>0.778808</td>\n",
       "      <td>0.693298</td>\n",
       "      <td>0.397013</td>\n",
       "      <td>0.780236</td>\n",
       "      <td>0.596388</td>\n",
       "      <td>0.638676</td>\n",
       "      <td>0.750493</td>\n",
       "      <td>0.729036</td>\n",
       "      <td>0.882388</td>\n",
       "      <td>1</td>\n",
       "    </tr>\n",
       "    <tr>\n",
       "      <th>4</th>\n",
       "      <td>0.205032</td>\n",
       "      <td>0.246058</td>\n",
       "      <td>0.273298</td>\n",
       "      <td>0.428088</td>\n",
       "      <td>0.683654</td>\n",
       "      <td>0.285951</td>\n",
       "      <td>0.921466</td>\n",
       "      <td>0.200500</td>\n",
       "      <td>0.516616</td>\n",
       "      <td>0.156772</td>\n",
       "      <td>...</td>\n",
       "      <td>0.578867</td>\n",
       "      <td>0.669287</td>\n",
       "      <td>0.463079</td>\n",
       "      <td>0.576185</td>\n",
       "      <td>0.521889</td>\n",
       "      <td>0.672908</td>\n",
       "      <td>0.521696</td>\n",
       "      <td>0.504693</td>\n",
       "      <td>0.593972</td>\n",
       "      <td>0</td>\n",
       "    </tr>\n",
       "    <tr>\n",
       "      <th>...</th>\n",
       "      <td>...</td>\n",
       "      <td>...</td>\n",
       "      <td>...</td>\n",
       "      <td>...</td>\n",
       "      <td>...</td>\n",
       "      <td>...</td>\n",
       "      <td>...</td>\n",
       "      <td>...</td>\n",
       "      <td>...</td>\n",
       "      <td>...</td>\n",
       "      <td>...</td>\n",
       "      <td>...</td>\n",
       "      <td>...</td>\n",
       "      <td>...</td>\n",
       "      <td>...</td>\n",
       "      <td>...</td>\n",
       "      <td>...</td>\n",
       "      <td>...</td>\n",
       "      <td>...</td>\n",
       "      <td>...</td>\n",
       "      <td>...</td>\n",
       "    </tr>\n",
       "    <tr>\n",
       "      <th>74995</th>\n",
       "      <td>0.094909</td>\n",
       "      <td>0.074764</td>\n",
       "      <td>0.108403</td>\n",
       "      <td>0.358456</td>\n",
       "      <td>0.575884</td>\n",
       "      <td>0.143665</td>\n",
       "      <td>0.934555</td>\n",
       "      <td>0.091245</td>\n",
       "      <td>0.582758</td>\n",
       "      <td>0.108355</td>\n",
       "      <td>...</td>\n",
       "      <td>0.492495</td>\n",
       "      <td>0.695173</td>\n",
       "      <td>0.528057</td>\n",
       "      <td>0.488769</td>\n",
       "      <td>0.475972</td>\n",
       "      <td>0.771854</td>\n",
       "      <td>0.426693</td>\n",
       "      <td>0.408949</td>\n",
       "      <td>0.454196</td>\n",
       "      <td>0</td>\n",
       "    </tr>\n",
       "    <tr>\n",
       "      <th>74996</th>\n",
       "      <td>0.220421</td>\n",
       "      <td>0.185365</td>\n",
       "      <td>0.153906</td>\n",
       "      <td>0.589890</td>\n",
       "      <td>0.323308</td>\n",
       "      <td>0.304324</td>\n",
       "      <td>0.953752</td>\n",
       "      <td>0.214022</td>\n",
       "      <td>0.725799</td>\n",
       "      <td>0.043228</td>\n",
       "      <td>...</td>\n",
       "      <td>0.606790</td>\n",
       "      <td>0.759419</td>\n",
       "      <td>0.378612</td>\n",
       "      <td>0.609271</td>\n",
       "      <td>0.608249</td>\n",
       "      <td>0.679992</td>\n",
       "      <td>0.571335</td>\n",
       "      <td>0.543179</td>\n",
       "      <td>0.691194</td>\n",
       "      <td>4</td>\n",
       "    </tr>\n",
       "    <tr>\n",
       "      <th>74997</th>\n",
       "      <td>0.213575</td>\n",
       "      <td>0.235242</td>\n",
       "      <td>0.247949</td>\n",
       "      <td>0.464828</td>\n",
       "      <td>0.625731</td>\n",
       "      <td>0.296190</td>\n",
       "      <td>0.898778</td>\n",
       "      <td>0.210102</td>\n",
       "      <td>0.579708</td>\n",
       "      <td>0.128233</td>\n",
       "      <td>...</td>\n",
       "      <td>0.541062</td>\n",
       "      <td>0.606771</td>\n",
       "      <td>0.465046</td>\n",
       "      <td>0.534528</td>\n",
       "      <td>0.524518</td>\n",
       "      <td>0.620792</td>\n",
       "      <td>0.470414</td>\n",
       "      <td>0.461202</td>\n",
       "      <td>0.544622</td>\n",
       "      <td>0</td>\n",
       "    </tr>\n",
       "    <tr>\n",
       "      <th>74998</th>\n",
       "      <td>0.657987</td>\n",
       "      <td>0.686777</td>\n",
       "      <td>0.655288</td>\n",
       "      <td>0.799247</td>\n",
       "      <td>0.685881</td>\n",
       "      <td>0.735150</td>\n",
       "      <td>0.864747</td>\n",
       "      <td>0.653656</td>\n",
       "      <td>0.821159</td>\n",
       "      <td>0.158080</td>\n",
       "      <td>...</td>\n",
       "      <td>0.839384</td>\n",
       "      <td>0.506736</td>\n",
       "      <td>0.671441</td>\n",
       "      <td>0.830040</td>\n",
       "      <td>0.330338</td>\n",
       "      <td>0.679327</td>\n",
       "      <td>0.780079</td>\n",
       "      <td>0.790050</td>\n",
       "      <td>0.753842</td>\n",
       "      <td>2</td>\n",
       "    </tr>\n",
       "    <tr>\n",
       "      <th>74999</th>\n",
       "      <td>0.526741</td>\n",
       "      <td>0.575952</td>\n",
       "      <td>0.558017</td>\n",
       "      <td>0.705769</td>\n",
       "      <td>0.684767</td>\n",
       "      <td>0.620101</td>\n",
       "      <td>0.859511</td>\n",
       "      <td>0.523663</td>\n",
       "      <td>0.778937</td>\n",
       "      <td>0.157446</td>\n",
       "      <td>...</td>\n",
       "      <td>0.889791</td>\n",
       "      <td>0.529317</td>\n",
       "      <td>0.696426</td>\n",
       "      <td>0.882486</td>\n",
       "      <td>0.310518</td>\n",
       "      <td>0.713657</td>\n",
       "      <td>0.843195</td>\n",
       "      <td>0.852315</td>\n",
       "      <td>0.800236</td>\n",
       "      <td>2</td>\n",
       "    </tr>\n",
       "  </tbody>\n",
       "</table>\n",
       "<p>75000 rows × 107 columns</p>\n",
       "</div>"
      ],
      "text/plain": [
       "           AREA  PERIMETER  MAJOR_AXIS  MINOR_AXIS  ECCENTRICITY   EQDIASQ   \n",
       "0      0.226799   0.531702    0.711205    0.169473      0.962963  0.311846  \\\n",
       "1      0.209128   0.239637    0.260701    0.446484      0.655806  0.290872   \n",
       "2      0.069924   0.161057    0.283667    0.151145      0.882762  0.108149   \n",
       "3      0.237624   0.529207    0.658375    0.210129      0.945141  0.324494   \n",
       "4      0.205032   0.246058    0.273298    0.428088      0.683654  0.285951   \n",
       "...         ...        ...         ...         ...           ...       ...   \n",
       "74995  0.094909   0.074764    0.108403    0.358456      0.575884  0.143665   \n",
       "74996  0.220421   0.185365    0.153906    0.589890      0.323308  0.304324   \n",
       "74997  0.213575   0.235242    0.247949    0.464828      0.625731  0.296190   \n",
       "74998  0.657987   0.686777    0.655288    0.799247      0.685881  0.735150   \n",
       "74999  0.526741   0.575952    0.558017    0.705769      0.684767  0.620101   \n",
       "\n",
       "       SOLIDITY  CONVEX_AREA    EXTENT  ASPECT_RATIO  ...  ALLdaub4L   \n",
       "0      0.872600     0.224590  0.121849      0.630194  ...   0.720850  \\\n",
       "1      0.772251     0.212204  0.617916      0.142227  ...   0.532359   \n",
       "2      0.825480     0.070394  0.316584      0.360306  ...   0.623569   \n",
       "3      0.771379     0.240895  0.559640      0.540960  ...   0.778808   \n",
       "4      0.921466     0.200500  0.516616      0.156772  ...   0.578867   \n",
       "...         ...          ...       ...           ...  ...        ...   \n",
       "74995  0.934555     0.091245  0.582758      0.108355  ...   0.492495   \n",
       "74996  0.953752     0.214022  0.725799      0.043228  ...   0.606790   \n",
       "74997  0.898778     0.210102  0.579708      0.128233  ...   0.541062   \n",
       "74998  0.864747     0.653656  0.821159      0.158080  ...   0.839384   \n",
       "74999  0.859511     0.523663  0.778937      0.157446  ...   0.889791   \n",
       "\n",
       "       ALLdaub4a  ALLdaub4b  ALLdaub4Y  ALLdaub4Cb  ALLdaub4Cr  ALLdaub4XX   \n",
       "0       0.711817   0.357488   0.721816    0.632684    0.623320    0.682446  \\\n",
       "1       0.628595   0.514402   0.526717    0.477674    0.677856    0.465812   \n",
       "2       0.421146   0.306076   0.609395    0.705355    0.269276    0.537804   \n",
       "3       0.693298   0.397013   0.780236    0.596388    0.638676    0.750493   \n",
       "4       0.669287   0.463079   0.576185    0.521889    0.672908    0.521696   \n",
       "...          ...        ...        ...         ...         ...         ...   \n",
       "74995   0.695173   0.528057   0.488769    0.475972    0.771854    0.426693   \n",
       "74996   0.759419   0.378612   0.609271    0.608249    0.679992    0.571335   \n",
       "74997   0.606771   0.465046   0.534528    0.524518    0.620792    0.470414   \n",
       "74998   0.506736   0.671441   0.830040    0.330338    0.679327    0.780079   \n",
       "74999   0.529317   0.696426   0.882486    0.310518    0.713657    0.843195   \n",
       "\n",
       "       ALLdaub4YY  ALLdaub4ZZ  CLASS  \n",
       "0        0.658010    0.831856      1  \n",
       "1        0.454944    0.509161      0  \n",
       "2        0.549124    0.747636      3  \n",
       "3        0.729036    0.882388      1  \n",
       "4        0.504693    0.593972      0  \n",
       "...           ...         ...    ...  \n",
       "74995    0.408949    0.454196      0  \n",
       "74996    0.543179    0.691194      4  \n",
       "74997    0.461202    0.544622      0  \n",
       "74998    0.790050    0.753842      2  \n",
       "74999    0.852315    0.800236      2  \n",
       "\n",
       "[75000 rows x 107 columns]"
      ]
     },
     "execution_count": 11,
     "metadata": {},
     "output_type": "execute_result"
    }
   ],
   "source": [
    "cols=df.columns[:-1]\n",
    "df1=pd.DataFrame(arr,columns=list(cols))\n",
    "df1\n",
    "df1['CLASS']=target\n",
    "df1"
   ]
  },
  {
   "cell_type": "code",
   "execution_count": 33,
   "id": "1a20c962",
   "metadata": {},
   "outputs": [],
   "source": [
    "for i in df.columns:\n",
    "    if((df1[i].isnull().sum())!=0):\n",
    "        print(i,df1[i].isnull().sum())\n",
    "   "
   ]
  },
  {
   "cell_type": "code",
   "execution_count": 12,
   "id": "2a9c7319",
   "metadata": {},
   "outputs": [
    {
     "data": {
      "text/plain": [
       "Index(['AREA', 'PERIMETER', 'MAJOR_AXIS', 'MINOR_AXIS', 'ECCENTRICITY',\n",
       "       'EQDIASQ', 'SOLIDITY', 'CONVEX_AREA', 'EXTENT', 'ASPECT_RATIO',\n",
       "       ...\n",
       "       'ALLdaub4L', 'ALLdaub4a', 'ALLdaub4b', 'ALLdaub4Y', 'ALLdaub4Cb',\n",
       "       'ALLdaub4Cr', 'ALLdaub4XX', 'ALLdaub4YY', 'ALLdaub4ZZ', 'CLASS'],\n",
       "      dtype='object', length=107)"
      ]
     },
     "execution_count": 12,
     "metadata": {},
     "output_type": "execute_result"
    }
   ],
   "source": [
    "df1.columns"
   ]
  },
  {
   "cell_type": "code",
   "execution_count": 13,
   "id": "b0c54d6b",
   "metadata": {},
   "outputs": [
    {
     "name": "stdout",
     "output_type": "stream",
     "text": [
      "<class 'pandas.core.frame.DataFrame'>\n",
      "RangeIndex: 75000 entries, 0 to 74999\n",
      "Columns: 107 entries, AREA to CLASS\n",
      "dtypes: float64(106), int32(1)\n",
      "memory usage: 60.9 MB\n"
     ]
    }
   ],
   "source": [
    "df1.info()"
   ]
  },
  {
   "cell_type": "code",
   "execution_count": 14,
   "id": "972fa722",
   "metadata": {},
   "outputs": [
    {
     "name": "stdout",
     "output_type": "stream",
     "text": [
      "(60000, 106)\n",
      "(15000, 106)\n"
     ]
    }
   ],
   "source": [
    "X=df1.iloc[:,:-1]\n",
    "y=df1['CLASS']\n",
    "X_train,X_test,y_train,y_test=train_test_split(X,y,test_size=0.2,random_state=42)\n",
    "print(X_train.shape)\n",
    "print(X_test.shape)"
   ]
  },
  {
   "cell_type": "code",
   "execution_count": 15,
   "id": "c628b9a4",
   "metadata": {},
   "outputs": [],
   "source": [
    "nb=GaussianNB()\n",
    "model=nb.fit(X_train,y_train)"
   ]
  },
  {
   "cell_type": "code",
   "execution_count": 16,
   "id": "809d8187",
   "metadata": {},
   "outputs": [
    {
     "name": "stdout",
     "output_type": "stream",
     "text": [
      "[1 0 0 ... 1 4 4]\n"
     ]
    }
   ],
   "source": [
    "pred=model.predict(X_test)\n",
    "print(pred)"
   ]
  },
  {
   "cell_type": "code",
   "execution_count": 17,
   "id": "5ca8866c",
   "metadata": {},
   "outputs": [
    {
     "name": "stdout",
     "output_type": "stream",
     "text": [
      "0.9906\n"
     ]
    }
   ],
   "source": [
    "print(accuracy_score(y_test,pred))"
   ]
  },
  {
   "cell_type": "code",
   "execution_count": 21,
   "id": "7e1d8ce0",
   "metadata": {},
   "outputs": [
    {
     "data": {
      "text/plain": [
       "<sklearn.metrics._plot.confusion_matrix.ConfusionMatrixDisplay at 0x1f293a949d0>"
      ]
     },
     "execution_count": 21,
     "metadata": {},
     "output_type": "execute_result"
    },
    {
     "data": {
      "image/png": "[encoded data removed]",
      "text/plain": [
       "<Figure size 640x480 with 2 Axes>"
      ]
     },
     "metadata": {},
     "output_type": "display_data"
    }
   ],
   "source": [
    "from sklearn.metrics import ConfusionMatrixDisplay\n",
    "from sklearn.metrics import confusion_matrix\n",
    "c1=confusion_matrix(y_true=y_test,y_pred=pred)\n",
    "c1\n",
    "disp = ConfusionMatrixDisplay(confusion_matrix=c1,display_labels=model.classes_)\n",
    "disp.plot()"
   ]
  },
  {
   "cell_type": "code",
   "execution_count": 24,
   "id": "08947b40",
   "metadata": {},
   "outputs": [
    {
     "data": {
      "text/plain": [
       "<sklearn.metrics._plot.confusion_matrix.ConfusionMatrixDisplay at 0x1f29d681c00>"
      ]
     },
     "execution_count": 24,
     "metadata": {},
     "output_type": "execute_result"
    },
    {
     "data": {
      "image/png": "[encoded data removed]",
      "text/plain": [
       "<Figure size 640x480 with 2 Axes>"
      ]
     },
     "metadata": {},
     "output_type": "display_data"
    }
   ],
   "source": [
    "from sklearn.metrics import ConfusionMatrixDisplay\n",
    "from sklearn.metrics import confusion_matrix\n",
    "c2=confusion_matrix(y_true=y_train,y_pred=t_pred)\n",
    "c2\n",
    "disp = ConfusionMatrixDisplay(confusion_matrix=c2,display_labels=model.classes_)\n",
    "disp.plot()"
   ]
  },
  {
   "cell_type": "code",
   "execution_count": 23,
   "id": "d9ee0f27",
   "metadata": {},
   "outputs": [],
   "source": [
    "t_pred=model.predict(X_train)"
   ]
  },
  {
   "cell_type": "code",
   "execution_count": 41,
   "id": "1c3fb710",
   "metadata": {},
   "outputs": [
    {
     "name": "stdout",
     "output_type": "stream",
     "text": [
      "0.99175\n"
     ]
    }
   ],
   "source": [
    "print(accuracy_score(y_train,t_pred))"
   ]
  },
  {
   "cell_type": "code",
   "execution_count": 44,
   "id": "27a7d802",
   "metadata": {},
   "outputs": [
    {
     "name": "stdout",
     "output_type": "stream",
     "text": [
      "Test Data Classificiaton Report\n",
      "              precision    recall  f1-score   support\n",
      "\n",
      "           0       0.99      0.99      0.99      3014\n",
      "           1       1.00      0.98      0.99      3028\n",
      "           2       1.00      1.00      1.00      3071\n",
      "           3       0.97      0.99      0.98      2908\n",
      "           4       0.99      0.99      0.99      2979\n",
      "\n",
      "    accuracy                           0.99     15000\n",
      "   macro avg       0.99      0.99      0.99     15000\n",
      "weighted avg       0.99      0.99      0.99     15000\n",
      "\n"
     ]
    }
   ],
   "source": [
    "from sklearn.metrics import classification_report\n",
    "print(\"Test Data Classificiaton Report\")\n",
    "print(classification_report(y_test,pred))"
   ]
  },
  {
   "cell_type": "code",
   "execution_count": 45,
   "id": "4d806e24",
   "metadata": {},
   "outputs": [
    {
     "name": "stdout",
     "output_type": "stream",
     "text": [
      "Train Data Classificiaton Report\n",
      "              precision    recall  f1-score   support\n",
      "\n",
      "           0       0.99      0.99      0.99     11986\n",
      "           1       1.00      0.98      0.99     11972\n",
      "           2       1.00      1.00      1.00     11929\n",
      "           3       0.97      1.00      0.99     12092\n",
      "           4       0.99      1.00      0.99     12021\n",
      "\n",
      "    accuracy                           0.99     60000\n",
      "   macro avg       0.99      0.99      0.99     60000\n",
      "weighted avg       0.99      0.99      0.99     60000\n",
      "\n"
     ]
    }
   ],
   "source": [
    "print(\"Train Data Classificiaton Report\")\n",
    "print(classification_report(y_train,t_pred))"
   ]
  },
  {
   "cell_type": "code",
   "execution_count": 46,
   "id": "2c5d3acc",
   "metadata": {},
   "outputs": [
    {
     "data": {
      "text/plain": [
       "3"
      ]
     },
     "execution_count": 46,
     "metadata": {},
     "output_type": "execute_result"
    }
   ],
   "source": []
  },
  {
   "cell_type": "code",
   "execution_count": null,
   "id": "63d9d255",
   "metadata": {},
   "outputs": [],
   "source": []
  }
 ],
 "metadata": {
  "kernelspec": {
   "display_name": "Python 3 (ipykernel)",
   "language": "python",
   "name": "python3"
  },
  "language_info": {
   "codemirror_mode": {
    "name": "ipython",
    "version": 3
   },
   "file_extension": ".py",
   "mimetype": "text/x-python",
   "name": "python",
   "nbconvert_exporter": "python",
   "pygments_lexer": "ipython3",
   "version": "3.10.4"
  }
 },
 "nbformat": 4,
 "nbformat_minor": 5
}
